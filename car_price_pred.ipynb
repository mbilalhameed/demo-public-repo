{
  "nbformat": 4,
  "nbformat_minor": 0,
  "metadata": {
    "colab": {
      "name": "car_price_pred.ipynb",
      "provenance": [],
      "collapsed_sections": [],
      "authorship_tag": "ABX9TyNMK/+Ne1zX3ybGDWYeo2vO",
      "include_colab_link": true
    },
    "kernelspec": {
      "name": "python3",
      "display_name": "Python 3"
    }
  },
  "cells": [
    {
      "cell_type": "markdown",
      "metadata": {
        "id": "view-in-github",
        "colab_type": "text"
      },
      "source": [
        "<a href=\"https://colab.research.google.com/github/mbilalhameed/demo-public-repo/blob/master/car_price_pred.ipynb\" target=\"_parent\"><img src=\"https://colab.research.google.com/assets/colab-badge.svg\" alt=\"Open In Colab\"/></a>"
      ]
    },
    {
      "cell_type": "markdown",
      "metadata": {
        "id": "vgnUG-F1_3CZ"
      },
      "source": [
        "# Car Price Prediction Data:\n",
        "\n"
      ]
    },
    {
      "cell_type": "markdown",
      "metadata": {
        "id": "SL0mXS-YEZja"
      },
      "source": [
        "**Import Libraries**"
      ]
    },
    {
      "cell_type": "code",
      "metadata": {
        "id": "JG6ols-eEgVN",
        "colab": {
          "base_uri": "https://localhost:8080/",
          "height": 71
        },
        "outputId": "dd19f6fa-1bfa-42ef-b970-3379ce87bed9"
      },
      "source": [
        "import numpy as np\n",
        "import pandas as pd\n",
        "import matplotlib.pyplot as plt\n",
        "import seaborn as sns\n",
        "import io\n",
        "import missingno\n",
        "sns.set(color_codes=True)\n",
        "%matplotlib inline"
      ],
      "execution_count": null,
      "outputs": [
        {
          "output_type": "stream",
          "text": [
            "/usr/local/lib/python3.6/dist-packages/statsmodels/tools/_testing.py:19: FutureWarning: pandas.util.testing is deprecated. Use the functions in the public API at pandas.testing instead.\n",
            "  import pandas.util.testing as tm\n"
          ],
          "name": "stderr"
        }
      ]
    },
    {
      "cell_type": "markdown",
      "metadata": {
        "id": "DKtdIeq1HdXv"
      },
      "source": [
        "**Load Dataset**"
      ]
    },
    {
      "cell_type": "code",
      "metadata": {
        "id": "G_RKO_NfHhaw",
        "colab": {
          "resources": {
            "http://localhost:8080/nbextensions/google.colab/files.js": {
              "data": "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",
              "ok": true,
              "headers": [
                [
                  "content-type",
                  "application/javascript"
                ]
              ],
              "status": 200,
              "status_text": ""
            }
          },
          "base_uri": "https://localhost:8080/",
          "height": 72
        },
        "outputId": "1917283d-a2cf-431a-db57-f5efca672c67"
      },
      "source": [
        "from google.colab import files\n",
        "uploaded = files.upload()"
      ],
      "execution_count": null,
      "outputs": [
        {
          "output_type": "display_data",
          "data": {
            "text/html": [
              "\n",
              "     <input type=\"file\" id=\"files-3f349246-7b58-4d56-b457-d38a5249115c\" name=\"files[]\" multiple disabled\n",
              "        style=\"border:none\" />\n",
              "     <output id=\"result-3f349246-7b58-4d56-b457-d38a5249115c\">\n",
              "      Upload widget is only available when the cell has been executed in the\n",
              "      current browser session. Please rerun this cell to enable.\n",
              "      </output>\n",
              "      <script src=\"/nbextensions/google.colab/files.js\"></script> "
            ],
            "text/plain": [
              "<IPython.core.display.HTML object>"
            ]
          },
          "metadata": {
            "tags": []
          }
        },
        {
          "output_type": "stream",
          "text": [
            "Saving car_sales.xlsx to car_sales.xlsx\n"
          ],
          "name": "stdout"
        }
      ]
    },
    {
      "cell_type": "code",
      "metadata": {
        "id": "eWnsOZa5IUZ7",
        "colab": {
          "base_uri": "https://localhost:8080/",
          "height": 204
        },
        "outputId": "fa345661-c39c-4147-d8cd-1a8d7f4ca5c2"
      },
      "source": [
        "df = pd.read_excel(io.BytesIO(uploaded['car_sales.xlsx'])) \n",
        "df.head()\n"
      ],
      "execution_count": null,
      "outputs": [
        {
          "output_type": "execute_result",
          "data": {
            "text/html": [
              "<div>\n",
              "<style scoped>\n",
              "    .dataframe tbody tr th:only-of-type {\n",
              "        vertical-align: middle;\n",
              "    }\n",
              "\n",
              "    .dataframe tbody tr th {\n",
              "        vertical-align: top;\n",
              "    }\n",
              "\n",
              "    .dataframe thead th {\n",
              "        text-align: right;\n",
              "    }\n",
              "</style>\n",
              "<table border=\"1\" class=\"dataframe\">\n",
              "  <thead>\n",
              "    <tr style=\"text-align: right;\">\n",
              "      <th></th>\n",
              "      <th>manufact</th>\n",
              "      <th>model</th>\n",
              "      <th>type</th>\n",
              "      <th>engine_s</th>\n",
              "      <th>horsepow</th>\n",
              "      <th>wheelbas</th>\n",
              "      <th>width</th>\n",
              "      <th>length</th>\n",
              "      <th>curb_wgt</th>\n",
              "      <th>fuel_cap</th>\n",
              "      <th>mpg</th>\n",
              "      <th>price</th>\n",
              "    </tr>\n",
              "  </thead>\n",
              "  <tbody>\n",
              "    <tr>\n",
              "      <th>0</th>\n",
              "      <td>Acura</td>\n",
              "      <td>Integra</td>\n",
              "      <td>0</td>\n",
              "      <td>1.8</td>\n",
              "      <td>140</td>\n",
              "      <td>101.2</td>\n",
              "      <td>67.3</td>\n",
              "      <td>172.4</td>\n",
              "      <td>2.639</td>\n",
              "      <td>13.2</td>\n",
              "      <td>28.0</td>\n",
              "      <td>21.50</td>\n",
              "    </tr>\n",
              "    <tr>\n",
              "      <th>1</th>\n",
              "      <td>Acura</td>\n",
              "      <td>CL</td>\n",
              "      <td>0</td>\n",
              "      <td>3.2</td>\n",
              "      <td>225</td>\n",
              "      <td>106.9</td>\n",
              "      <td>70.6</td>\n",
              "      <td>192.0</td>\n",
              "      <td>3.470</td>\n",
              "      <td>17.2</td>\n",
              "      <td>26.0</td>\n",
              "      <td>NaN</td>\n",
              "    </tr>\n",
              "    <tr>\n",
              "      <th>2</th>\n",
              "      <td>Acura</td>\n",
              "      <td>TL</td>\n",
              "      <td>0</td>\n",
              "      <td>3.2</td>\n",
              "      <td>225</td>\n",
              "      <td>108.1</td>\n",
              "      <td>70.3</td>\n",
              "      <td>192.9</td>\n",
              "      <td>3.517</td>\n",
              "      <td>17.2</td>\n",
              "      <td>25.0</td>\n",
              "      <td>28.40</td>\n",
              "    </tr>\n",
              "    <tr>\n",
              "      <th>3</th>\n",
              "      <td>Acura</td>\n",
              "      <td>RL</td>\n",
              "      <td>0</td>\n",
              "      <td>3.5</td>\n",
              "      <td>210</td>\n",
              "      <td>114.6</td>\n",
              "      <td>71.4</td>\n",
              "      <td>196.6</td>\n",
              "      <td>3.850</td>\n",
              "      <td>18.0</td>\n",
              "      <td>22.0</td>\n",
              "      <td>42.00</td>\n",
              "    </tr>\n",
              "    <tr>\n",
              "      <th>4</th>\n",
              "      <td>Audi</td>\n",
              "      <td>A4</td>\n",
              "      <td>0</td>\n",
              "      <td>1.8</td>\n",
              "      <td>150</td>\n",
              "      <td>102.6</td>\n",
              "      <td>68.2</td>\n",
              "      <td>178.0</td>\n",
              "      <td>2.998</td>\n",
              "      <td>16.4</td>\n",
              "      <td>27.0</td>\n",
              "      <td>23.99</td>\n",
              "    </tr>\n",
              "  </tbody>\n",
              "</table>\n",
              "</div>"
            ],
            "text/plain": [
              "  manufact    model  type  engine_s  ...  curb_wgt  fuel_cap   mpg  price\n",
              "0    Acura  Integra     0       1.8  ...     2.639      13.2  28.0  21.50\n",
              "1    Acura       CL     0       3.2  ...     3.470      17.2  26.0    NaN\n",
              "2    Acura       TL     0       3.2  ...     3.517      17.2  25.0  28.40\n",
              "3    Acura       RL     0       3.5  ...     3.850      18.0  22.0  42.00\n",
              "4     Audi       A4     0       1.8  ...     2.998      16.4  27.0  23.99\n",
              "\n",
              "[5 rows x 12 columns]"
            ]
          },
          "metadata": {
            "tags": []
          },
          "execution_count": 3
        }
      ]
    },
    {
      "cell_type": "markdown",
      "metadata": {
        "id": "6qbqVcr5OFqv"
      },
      "source": [
        "**Number of Entries**"
      ]
    },
    {
      "cell_type": "code",
      "metadata": {
        "id": "-_w2g6_nOKMC",
        "colab": {
          "base_uri": "https://localhost:8080/",
          "height": 34
        },
        "outputId": "c95a1c0e-591b-46e3-cea5-c75c3013e720"
      },
      "source": [
        "print(\"Number of entries\",len(df))"
      ],
      "execution_count": null,
      "outputs": [
        {
          "output_type": "stream",
          "text": [
            "Number of entries 153\n"
          ],
          "name": "stdout"
        }
      ]
    },
    {
      "cell_type": "markdown",
      "metadata": {
        "id": "hZL44IC1ORaw"
      },
      "source": [
        "##**Data Description**\n",
        "#### **Columns:**\n",
        "\n",
        "* **manufact** : Manufacturer Name\n",
        "* **model**    : Model of car\n",
        "* **price**    : Price of car\n",
        "* **type**     : 1=SUV , 0=Non-SUV\n",
        "* **engine_s** : total volume of air and fuel that's pushed through the engine by its cylinders\n",
        "* **horsepow** : Engine power\n",
        "* **wheelbas** : distance between front and rear wheels\n",
        "* **width**    : Width of car\n",
        "* **length**   : Length of car\n",
        "* **curb_wgt** : Weight of a car without occupants or baggage.\n",
        "* **fuel_cap** : Fuel capacity\n",
        "* **mpg**      : Miles per gallon"
      ]
    },
    {
      "cell_type": "code",
      "metadata": {
        "id": "QAgW06oQO4Ii",
        "colab": {
          "base_uri": "https://localhost:8080/",
          "height": 297
        },
        "outputId": "8301417d-1445-4bfc-a17c-af001193d723"
      },
      "source": [
        "df.describe()"
      ],
      "execution_count": null,
      "outputs": [
        {
          "output_type": "execute_result",
          "data": {
            "text/html": [
              "<div>\n",
              "<style scoped>\n",
              "    .dataframe tbody tr th:only-of-type {\n",
              "        vertical-align: middle;\n",
              "    }\n",
              "\n",
              "    .dataframe tbody tr th {\n",
              "        vertical-align: top;\n",
              "    }\n",
              "\n",
              "    .dataframe thead th {\n",
              "        text-align: right;\n",
              "    }\n",
              "</style>\n",
              "<table border=\"1\" class=\"dataframe\">\n",
              "  <thead>\n",
              "    <tr style=\"text-align: right;\">\n",
              "      <th></th>\n",
              "      <th>type</th>\n",
              "      <th>engine_s</th>\n",
              "      <th>horsepow</th>\n",
              "      <th>wheelbas</th>\n",
              "      <th>width</th>\n",
              "      <th>length</th>\n",
              "      <th>curb_wgt</th>\n",
              "      <th>fuel_cap</th>\n",
              "      <th>mpg</th>\n",
              "      <th>price</th>\n",
              "    </tr>\n",
              "  </thead>\n",
              "  <tbody>\n",
              "    <tr>\n",
              "      <th>count</th>\n",
              "      <td>153.000000</td>\n",
              "      <td>153.000000</td>\n",
              "      <td>153.000000</td>\n",
              "      <td>153.000000</td>\n",
              "      <td>153.000000</td>\n",
              "      <td>153.000000</td>\n",
              "      <td>153.000000</td>\n",
              "      <td>153.000000</td>\n",
              "      <td>153.000000</td>\n",
              "      <td>152.000000</td>\n",
              "    </tr>\n",
              "    <tr>\n",
              "      <th>mean</th>\n",
              "      <td>0.261438</td>\n",
              "      <td>3.050327</td>\n",
              "      <td>185.071895</td>\n",
              "      <td>107.410458</td>\n",
              "      <td>71.085621</td>\n",
              "      <td>187.091503</td>\n",
              "      <td>3.376797</td>\n",
              "      <td>17.954248</td>\n",
              "      <td>23.855556</td>\n",
              "      <td>27.331822</td>\n",
              "    </tr>\n",
              "    <tr>\n",
              "      <th>std</th>\n",
              "      <td>0.440861</td>\n",
              "      <td>1.046430</td>\n",
              "      <td>56.729054</td>\n",
              "      <td>7.692522</td>\n",
              "      <td>3.453477</td>\n",
              "      <td>13.432800</td>\n",
              "      <td>0.634540</td>\n",
              "      <td>3.925088</td>\n",
              "      <td>4.294165</td>\n",
              "      <td>14.418669</td>\n",
              "    </tr>\n",
              "    <tr>\n",
              "      <th>min</th>\n",
              "      <td>0.000000</td>\n",
              "      <td>1.000000</td>\n",
              "      <td>55.000000</td>\n",
              "      <td>92.600000</td>\n",
              "      <td>62.600000</td>\n",
              "      <td>149.400000</td>\n",
              "      <td>1.895000</td>\n",
              "      <td>10.300000</td>\n",
              "      <td>15.000000</td>\n",
              "      <td>9.235000</td>\n",
              "    </tr>\n",
              "    <tr>\n",
              "      <th>25%</th>\n",
              "      <td>0.000000</td>\n",
              "      <td>2.300000</td>\n",
              "      <td>148.000000</td>\n",
              "      <td>103.000000</td>\n",
              "      <td>68.400000</td>\n",
              "      <td>177.500000</td>\n",
              "      <td>2.967000</td>\n",
              "      <td>15.800000</td>\n",
              "      <td>21.000000</td>\n",
              "      <td>17.888750</td>\n",
              "    </tr>\n",
              "    <tr>\n",
              "      <th>50%</th>\n",
              "      <td>0.000000</td>\n",
              "      <td>3.000000</td>\n",
              "      <td>175.000000</td>\n",
              "      <td>107.000000</td>\n",
              "      <td>70.400000</td>\n",
              "      <td>186.700000</td>\n",
              "      <td>3.340000</td>\n",
              "      <td>17.200000</td>\n",
              "      <td>24.000000</td>\n",
              "      <td>22.747000</td>\n",
              "    </tr>\n",
              "    <tr>\n",
              "      <th>75%</th>\n",
              "      <td>1.000000</td>\n",
              "      <td>3.500000</td>\n",
              "      <td>215.000000</td>\n",
              "      <td>112.200000</td>\n",
              "      <td>73.100000</td>\n",
              "      <td>194.800000</td>\n",
              "      <td>3.821000</td>\n",
              "      <td>19.800000</td>\n",
              "      <td>26.000000</td>\n",
              "      <td>31.938750</td>\n",
              "    </tr>\n",
              "    <tr>\n",
              "      <th>max</th>\n",
              "      <td>1.000000</td>\n",
              "      <td>8.000000</td>\n",
              "      <td>450.000000</td>\n",
              "      <td>138.700000</td>\n",
              "      <td>79.900000</td>\n",
              "      <td>224.500000</td>\n",
              "      <td>5.572000</td>\n",
              "      <td>32.000000</td>\n",
              "      <td>45.000000</td>\n",
              "      <td>85.500000</td>\n",
              "    </tr>\n",
              "  </tbody>\n",
              "</table>\n",
              "</div>"
            ],
            "text/plain": [
              "             type    engine_s    horsepow  ...    fuel_cap         mpg       price\n",
              "count  153.000000  153.000000  153.000000  ...  153.000000  153.000000  152.000000\n",
              "mean     0.261438    3.050327  185.071895  ...   17.954248   23.855556   27.331822\n",
              "std      0.440861    1.046430   56.729054  ...    3.925088    4.294165   14.418669\n",
              "min      0.000000    1.000000   55.000000  ...   10.300000   15.000000    9.235000\n",
              "25%      0.000000    2.300000  148.000000  ...   15.800000   21.000000   17.888750\n",
              "50%      0.000000    3.000000  175.000000  ...   17.200000   24.000000   22.747000\n",
              "75%      1.000000    3.500000  215.000000  ...   19.800000   26.000000   31.938750\n",
              "max      1.000000    8.000000  450.000000  ...   32.000000   45.000000   85.500000\n",
              "\n",
              "[8 rows x 10 columns]"
            ]
          },
          "metadata": {
            "tags": []
          },
          "execution_count": 5
        }
      ]
    },
    {
      "cell_type": "markdown",
      "metadata": {
        "id": "7TEhCOuyPb7-"
      },
      "source": [
        "**Drop Missing Values**"
      ]
    },
    {
      "cell_type": "code",
      "metadata": {
        "id": "BFY9T07zPiyA",
        "colab": {
          "base_uri": "https://localhost:8080/",
          "height": 34
        },
        "outputId": "79891bc1-f0bb-45e0-c6b0-1b86f875eee6"
      },
      "source": [
        "df.manufact.value_counts() #number of entries by manufecturer\n",
        "df.isnull().sum() # show number of missing values in each column\n",
        "df.dropna(axis=0,inplace=True)\n",
        "print(\"Number of entries\",len(df))"
      ],
      "execution_count": null,
      "outputs": [
        {
          "output_type": "stream",
          "text": [
            "Number of entries 152\n"
          ],
          "name": "stdout"
        }
      ]
    },
    {
      "cell_type": "markdown",
      "metadata": {
        "id": "rQqaq9Zqnfav"
      },
      "source": [
        "**Drop Duplicated rows**"
      ]
    },
    {
      "cell_type": "code",
      "metadata": {
        "id": "CdPYJpSXnjee",
        "colab": {
          "base_uri": "https://localhost:8080/",
          "height": 34
        },
        "outputId": "b77d8481-a372-4343-ce0d-8cf0965d4942"
      },
      "source": [
        "duplicate_rows_df = df[df.duplicated()]\n",
        "print(\"Number of duplicates: \", duplicate_rows_df.shape[0])"
      ],
      "execution_count": null,
      "outputs": [
        {
          "output_type": "stream",
          "text": [
            "Number of duplicates:  0\n"
          ],
          "name": "stdout"
        }
      ]
    },
    {
      "cell_type": "markdown",
      "metadata": {
        "id": "2mGactgSWiOr"
      },
      "source": [
        "**Detecting Outliers**"
      ]
    },
    {
      "cell_type": "code",
      "metadata": {
        "id": "eIDPc-tGWmbK",
        "colab": {
          "base_uri": "https://localhost:8080/",
          "height": 302
        },
        "outputId": "4c7b1a15-bf7d-4bc3-f0e9-77bb6fc03b5c"
      },
      "source": [
        "sns.boxplot(x=df.price)"
      ],
      "execution_count": null,
      "outputs": [
        {
          "output_type": "execute_result",
          "data": {
            "text/plain": [
              "<matplotlib.axes._subplots.AxesSubplot at 0x7f3fb4272b70>"
            ]
          },
          "metadata": {
            "tags": []
          },
          "execution_count": 8
        },
        {
          "output_type": "display_data",
          "data": {
            "image/png": "[encoded data removed]",
            "text/plain": [
              "<Figure size 432x288 with 1 Axes>"
            ]
          },
          "metadata": {
            "tags": [],
            "needs_background": "light"
          }
        }
      ]
    },
    {
      "cell_type": "code",
      "metadata": {
        "id": "ZyvIsZicWuM7",
        "colab": {
          "base_uri": "https://localhost:8080/",
          "height": 204
        },
        "outputId": "a8f92cd7-239f-49ca-fd89-0c0254ee899b"
      },
      "source": [
        "Q1 = df.quantile(0.25)\n",
        "Q3 = df.quantile(0.75)\n",
        "IQR = Q3 - Q1\n",
        "print(IQR)"
      ],
      "execution_count": null,
      "outputs": [
        {
          "output_type": "stream",
          "text": [
            "type         1.00000\n",
            "engine_s     1.27500\n",
            "horsepow    63.75000\n",
            "wheelbas     9.30000\n",
            "width        4.72500\n",
            "length      17.65000\n",
            "curb_wgt     0.85675\n",
            "fuel_cap     4.02500\n",
            "mpg          5.00000\n",
            "price       14.05000\n",
            "dtype: float64\n"
          ],
          "name": "stdout"
        }
      ]
    },
    {
      "cell_type": "code",
      "metadata": {
        "id": "N3dZWPtVW02X",
        "colab": {
          "base_uri": "https://localhost:8080/",
          "height": 34
        },
        "outputId": "263a7829-2d97-4b0c-8de4-c98a55275560"
      },
      "source": [
        "df = df[~((df < (Q1 - 1.5 * IQR)) |(df > (Q3 + 1.5 * IQR))).any(axis=1)]\n",
        "len(df)"
      ],
      "execution_count": null,
      "outputs": [
        {
          "output_type": "execute_result",
          "data": {
            "text/plain": [
              "131"
            ]
          },
          "metadata": {
            "tags": []
          },
          "execution_count": 10
        }
      ]
    },
    {
      "cell_type": "markdown",
      "metadata": {
        "id": "B-o-sIXes4oR"
      },
      "source": [
        "**Drop Irrelevent Columns**"
      ]
    },
    {
      "cell_type": "code",
      "metadata": {
        "id": "CoEEMBDXtVTc",
        "colab": {
          "base_uri": "https://localhost:8080/",
          "height": 204
        },
        "outputId": "924e4ae8-b6c8-4203-cd9d-f214a4fce259"
      },
      "source": [
        "df.drop(['model','manufact'],axis=1,inplace=True)\n",
        "df.head()"
      ],
      "execution_count": null,
      "outputs": [
        {
          "output_type": "execute_result",
          "data": {
            "text/html": [
              "<div>\n",
              "<style scoped>\n",
              "    .dataframe tbody tr th:only-of-type {\n",
              "        vertical-align: middle;\n",
              "    }\n",
              "\n",
              "    .dataframe tbody tr th {\n",
              "        vertical-align: top;\n",
              "    }\n",
              "\n",
              "    .dataframe thead th {\n",
              "        text-align: right;\n",
              "    }\n",
              "</style>\n",
              "<table border=\"1\" class=\"dataframe\">\n",
              "  <thead>\n",
              "    <tr style=\"text-align: right;\">\n",
              "      <th></th>\n",
              "      <th>type</th>\n",
              "      <th>engine_s</th>\n",
              "      <th>horsepow</th>\n",
              "      <th>wheelbas</th>\n",
              "      <th>width</th>\n",
              "      <th>length</th>\n",
              "      <th>curb_wgt</th>\n",
              "      <th>fuel_cap</th>\n",
              "      <th>mpg</th>\n",
              "      <th>price</th>\n",
              "    </tr>\n",
              "  </thead>\n",
              "  <tbody>\n",
              "    <tr>\n",
              "      <th>0</th>\n",
              "      <td>0</td>\n",
              "      <td>1.8</td>\n",
              "      <td>140</td>\n",
              "      <td>101.2</td>\n",
              "      <td>67.3</td>\n",
              "      <td>172.4</td>\n",
              "      <td>2.639</td>\n",
              "      <td>13.2</td>\n",
              "      <td>28.0</td>\n",
              "      <td>21.50</td>\n",
              "    </tr>\n",
              "    <tr>\n",
              "      <th>2</th>\n",
              "      <td>0</td>\n",
              "      <td>3.2</td>\n",
              "      <td>225</td>\n",
              "      <td>108.1</td>\n",
              "      <td>70.3</td>\n",
              "      <td>192.9</td>\n",
              "      <td>3.517</td>\n",
              "      <td>17.2</td>\n",
              "      <td>25.0</td>\n",
              "      <td>28.40</td>\n",
              "    </tr>\n",
              "    <tr>\n",
              "      <th>3</th>\n",
              "      <td>0</td>\n",
              "      <td>3.5</td>\n",
              "      <td>210</td>\n",
              "      <td>114.6</td>\n",
              "      <td>71.4</td>\n",
              "      <td>196.6</td>\n",
              "      <td>3.850</td>\n",
              "      <td>18.0</td>\n",
              "      <td>22.0</td>\n",
              "      <td>42.00</td>\n",
              "    </tr>\n",
              "    <tr>\n",
              "      <th>4</th>\n",
              "      <td>0</td>\n",
              "      <td>1.8</td>\n",
              "      <td>150</td>\n",
              "      <td>102.6</td>\n",
              "      <td>68.2</td>\n",
              "      <td>178.0</td>\n",
              "      <td>2.998</td>\n",
              "      <td>16.4</td>\n",
              "      <td>27.0</td>\n",
              "      <td>23.99</td>\n",
              "    </tr>\n",
              "    <tr>\n",
              "      <th>5</th>\n",
              "      <td>0</td>\n",
              "      <td>2.8</td>\n",
              "      <td>200</td>\n",
              "      <td>108.7</td>\n",
              "      <td>76.1</td>\n",
              "      <td>192.0</td>\n",
              "      <td>3.561</td>\n",
              "      <td>18.5</td>\n",
              "      <td>22.0</td>\n",
              "      <td>33.95</td>\n",
              "    </tr>\n",
              "  </tbody>\n",
              "</table>\n",
              "</div>"
            ],
            "text/plain": [
              "   type  engine_s  horsepow  wheelbas  ...  curb_wgt  fuel_cap   mpg  price\n",
              "0     0       1.8       140     101.2  ...     2.639      13.2  28.0  21.50\n",
              "2     0       3.2       225     108.1  ...     3.517      17.2  25.0  28.40\n",
              "3     0       3.5       210     114.6  ...     3.850      18.0  22.0  42.00\n",
              "4     0       1.8       150     102.6  ...     2.998      16.4  27.0  23.99\n",
              "5     0       2.8       200     108.7  ...     3.561      18.5  22.0  33.95\n",
              "\n",
              "[5 rows x 10 columns]"
            ]
          },
          "metadata": {
            "tags": []
          },
          "execution_count": 11
        }
      ]
    },
    {
      "cell_type": "markdown",
      "metadata": {
        "id": "dD5Y4-Ehsl9E"
      },
      "source": [
        "**Heatmap to find relation between Features**\n",
        "\n",
        "\n",
        "we can see that prices depend mainly on engine size and HP"
      ]
    },
    {
      "cell_type": "code",
      "metadata": {
        "id": "1-_3yhxAsthl",
        "colab": {
          "base_uri": "https://localhost:8080/",
          "height": 712
        },
        "outputId": "ac5d723f-3ade-43e2-e9ef-20aa37221be9"
      },
      "source": [
        "plt.figure(figsize=(10,5))\n",
        "c= df.corr()\n",
        "sns.heatmap(c,cmap=\"BrBG\",annot=True)\n",
        "c"
      ],
      "execution_count": null,
      "outputs": [
        {
          "output_type": "execute_result",
          "data": {
            "text/html": [
              "<div>\n",
              "<style scoped>\n",
              "    .dataframe tbody tr th:only-of-type {\n",
              "        vertical-align: middle;\n",
              "    }\n",
              "\n",
              "    .dataframe tbody tr th {\n",
              "        vertical-align: top;\n",
              "    }\n",
              "\n",
              "    .dataframe thead th {\n",
              "        text-align: right;\n",
              "    }\n",
              "</style>\n",
              "<table border=\"1\" class=\"dataframe\">\n",
              "  <thead>\n",
              "    <tr style=\"text-align: right;\">\n",
              "      <th></th>\n",
              "      <th>type</th>\n",
              "      <th>engine_s</th>\n",
              "      <th>horsepow</th>\n",
              "      <th>wheelbas</th>\n",
              "      <th>width</th>\n",
              "      <th>length</th>\n",
              "      <th>curb_wgt</th>\n",
              "      <th>fuel_cap</th>\n",
              "      <th>mpg</th>\n",
              "      <th>price</th>\n",
              "    </tr>\n",
              "  </thead>\n",
              "  <tbody>\n",
              "    <tr>\n",
              "      <th>type</th>\n",
              "      <td>1.000000</td>\n",
              "      <td>0.239177</td>\n",
              "      <td>0.032612</td>\n",
              "      <td>0.221675</td>\n",
              "      <td>0.037472</td>\n",
              "      <td>-0.050599</td>\n",
              "      <td>0.434960</td>\n",
              "      <td>0.542801</td>\n",
              "      <td>-0.561529</td>\n",
              "      <td>-0.020676</td>\n",
              "    </tr>\n",
              "    <tr>\n",
              "      <th>engine_s</th>\n",
              "      <td>0.239177</td>\n",
              "      <td>1.000000</td>\n",
              "      <td>0.780235</td>\n",
              "      <td>0.608002</td>\n",
              "      <td>0.643561</td>\n",
              "      <td>0.637356</td>\n",
              "      <td>0.801820</td>\n",
              "      <td>0.646784</td>\n",
              "      <td>-0.699813</td>\n",
              "      <td>0.528601</td>\n",
              "    </tr>\n",
              "    <tr>\n",
              "      <th>horsepow</th>\n",
              "      <td>0.032612</td>\n",
              "      <td>0.780235</td>\n",
              "      <td>1.000000</td>\n",
              "      <td>0.526897</td>\n",
              "      <td>0.561939</td>\n",
              "      <td>0.528882</td>\n",
              "      <td>0.733183</td>\n",
              "      <td>0.572672</td>\n",
              "      <td>-0.615674</td>\n",
              "      <td>0.827566</td>\n",
              "    </tr>\n",
              "    <tr>\n",
              "      <th>wheelbas</th>\n",
              "      <td>0.221675</td>\n",
              "      <td>0.608002</td>\n",
              "      <td>0.526897</td>\n",
              "      <td>1.000000</td>\n",
              "      <td>0.659359</td>\n",
              "      <td>0.802333</td>\n",
              "      <td>0.674301</td>\n",
              "      <td>0.599388</td>\n",
              "      <td>-0.433867</td>\n",
              "      <td>0.335369</td>\n",
              "    </tr>\n",
              "    <tr>\n",
              "      <th>width</th>\n",
              "      <td>0.037472</td>\n",
              "      <td>0.643561</td>\n",
              "      <td>0.561939</td>\n",
              "      <td>0.659359</td>\n",
              "      <td>1.000000</td>\n",
              "      <td>0.671299</td>\n",
              "      <td>0.621092</td>\n",
              "      <td>0.447833</td>\n",
              "      <td>-0.403567</td>\n",
              "      <td>0.360608</td>\n",
              "    </tr>\n",
              "    <tr>\n",
              "      <th>length</th>\n",
              "      <td>-0.050599</td>\n",
              "      <td>0.637356</td>\n",
              "      <td>0.528882</td>\n",
              "      <td>0.802333</td>\n",
              "      <td>0.671299</td>\n",
              "      <td>1.000000</td>\n",
              "      <td>0.608179</td>\n",
              "      <td>0.487476</td>\n",
              "      <td>-0.306701</td>\n",
              "      <td>0.253034</td>\n",
              "    </tr>\n",
              "    <tr>\n",
              "      <th>curb_wgt</th>\n",
              "      <td>0.434960</td>\n",
              "      <td>0.801820</td>\n",
              "      <td>0.733183</td>\n",
              "      <td>0.674301</td>\n",
              "      <td>0.621092</td>\n",
              "      <td>0.608179</td>\n",
              "      <td>1.000000</td>\n",
              "      <td>0.840116</td>\n",
              "      <td>-0.788092</td>\n",
              "      <td>0.630318</td>\n",
              "    </tr>\n",
              "    <tr>\n",
              "      <th>fuel_cap</th>\n",
              "      <td>0.542801</td>\n",
              "      <td>0.646784</td>\n",
              "      <td>0.572672</td>\n",
              "      <td>0.599388</td>\n",
              "      <td>0.447833</td>\n",
              "      <td>0.487476</td>\n",
              "      <td>0.840116</td>\n",
              "      <td>1.000000</td>\n",
              "      <td>-0.767556</td>\n",
              "      <td>0.484777</td>\n",
              "    </tr>\n",
              "    <tr>\n",
              "      <th>mpg</th>\n",
              "      <td>-0.561529</td>\n",
              "      <td>-0.699813</td>\n",
              "      <td>-0.615674</td>\n",
              "      <td>-0.433867</td>\n",
              "      <td>-0.403567</td>\n",
              "      <td>-0.306701</td>\n",
              "      <td>-0.788092</td>\n",
              "      <td>-0.767556</td>\n",
              "      <td>1.000000</td>\n",
              "      <td>-0.513747</td>\n",
              "    </tr>\n",
              "    <tr>\n",
              "      <th>price</th>\n",
              "      <td>-0.020676</td>\n",
              "      <td>0.528601</td>\n",
              "      <td>0.827566</td>\n",
              "      <td>0.335369</td>\n",
              "      <td>0.360608</td>\n",
              "      <td>0.253034</td>\n",
              "      <td>0.630318</td>\n",
              "      <td>0.484777</td>\n",
              "      <td>-0.513747</td>\n",
              "      <td>1.000000</td>\n",
              "    </tr>\n",
              "  </tbody>\n",
              "</table>\n",
              "</div>"
            ],
            "text/plain": [
              "              type  engine_s  horsepow  ...  fuel_cap       mpg     price\n",
              "type      1.000000  0.239177  0.032612  ...  0.542801 -0.561529 -0.020676\n",
              "engine_s  0.239177  1.000000  0.780235  ...  0.646784 -0.699813  0.528601\n",
              "horsepow  0.032612  0.780235  1.000000  ...  0.572672 -0.615674  0.827566\n",
              "wheelbas  0.221675  0.608002  0.526897  ...  0.599388 -0.433867  0.335369\n",
              "width     0.037472  0.643561  0.561939  ...  0.447833 -0.403567  0.360608\n",
              "length   -0.050599  0.637356  0.528882  ...  0.487476 -0.306701  0.253034\n",
              "curb_wgt  0.434960  0.801820  0.733183  ...  0.840116 -0.788092  0.630318\n",
              "fuel_cap  0.542801  0.646784  0.572672  ...  1.000000 -0.767556  0.484777\n",
              "mpg      -0.561529 -0.699813 -0.615674  ... -0.767556  1.000000 -0.513747\n",
              "price    -0.020676  0.528601  0.827566  ...  0.484777 -0.513747  1.000000\n",
              "\n",
              "[10 rows x 10 columns]"
            ]
          },
          "metadata": {
            "tags": []
          },
          "execution_count": 12
        },
        {
          "output_type": "display_data",
          "data": {
            "image/png": "[encoded data removed]",
            "text/plain": [
              "<Figure size 720x360 with 2 Axes>"
            ]
          },
          "metadata": {
            "tags": [],
            "needs_background": "light"
          }
        }
      ]
    },
    {
      "cell_type": "markdown",
      "metadata": {
        "id": "BFlYeb3ixrEl"
      },
      "source": [
        "**Scaterplot to demonstrait correlation between price and HP**"
      ]
    },
    {
      "cell_type": "code",
      "metadata": {
        "id": "pRihu2v0x2A1",
        "colab": {
          "base_uri": "https://localhost:8080/",
          "height": 339
        },
        "outputId": "43092475-ef59-483f-a2db-64c6f03e4753"
      },
      "source": [
        "fig, ax = plt.subplots(figsize=(8,5))\n",
        "ax.scatter(df.horsepow, df.price)\n",
        "ax.set_xlabel('HP')\n",
        "ax.set_ylabel('Price')\n",
        "plt.show()"
      ],
      "execution_count": null,
      "outputs": [
        {
          "output_type": "display_data",
          "data": {
            "image/png": "[encoded data removed]",
            "text/plain": [
              "<Figure size 576x360 with 1 Axes>"
            ]
          },
          "metadata": {
            "tags": [],
            "needs_background": "light"
          }
        }
      ]
    },
    {
      "cell_type": "code",
      "metadata": {
        "id": "dMt5ZMEb5kb4",
        "colab": {
          "base_uri": "https://localhost:8080/",
          "height": 339
        },
        "outputId": "709a272f-1854-49cd-976f-7d6883fb112e"
      },
      "source": [
        "fig, ax = plt.subplots(figsize=(8,5))\n",
        "ax.scatter(df.engine_s, df.price)\n",
        "ax.set_xlabel('Engine Size')\n",
        "ax.set_ylabel('Price')\n",
        "plt.show()"
      ],
      "execution_count": null,
      "outputs": [
        {
          "output_type": "display_data",
          "data": {
            "image/png": "[encoded data removed]",
            "text/plain": [
              "<Figure size 576x360 with 1 Axes>"
            ]
          },
          "metadata": {
            "tags": [],
            "needs_background": "light"
          }
        }
      ]
    },
    {
      "cell_type": "code",
      "metadata": {
        "id": "zJF2UHpI5xXw",
        "colab": {
          "base_uri": "https://localhost:8080/",
          "height": 339
        },
        "outputId": "1f1da323-a354-45cf-96d2-e73d3c6b4c35"
      },
      "source": [
        "fig, ax = plt.subplots(figsize=(8,5))\n",
        "ax.scatter(df.mpg, df.price)\n",
        "ax.set_xlabel('MPG')\n",
        "ax.set_ylabel('Price')\n",
        "plt.show()"
      ],
      "execution_count": null,
      "outputs": [
        {
          "output_type": "display_data",
          "data": {
            "image/png": "[encoded data removed]",
            "text/plain": [
              "<Figure size 576x360 with 1 Axes>"
            ]
          },
          "metadata": {
            "tags": [],
            "needs_background": "light"
          }
        }
      ]
    },
    {
      "cell_type": "markdown",
      "metadata": {
        "id": "4ttbGwWdlJSb"
      },
      "source": [
        "**Normalizing Features**\n",
        "\n",
        "\n"
      ]
    },
    {
      "cell_type": "code",
      "metadata": {
        "id": "pG2NYymmGrPz",
        "colab": {
          "base_uri": "https://localhost:8080/",
          "height": 359
        },
        "outputId": "6b6cc506-ca0d-46d2-d20d-126e8f7dd5fc"
      },
      "source": [
        "df.engine_s=pd.DataFrame((df.engine_s-df.engine_s.mean())/df.engine_s.std()).values\n",
        "df.horsepow=pd.DataFrame((df.horsepow-df.horsepow.mean())/df.horsepow.std()).values\n",
        "df.wheelbas=pd.DataFrame((df.wheelbas-df.wheelbas.mean())/df.wheelbas.std()).values\n",
        "df.width=pd.DataFrame((df.width-df.width.mean())/df.width.std()).values\n",
        "df.length=pd.DataFrame((df.length-df.length.mean())/df.length.std()).values\n",
        "df.curb_wgt=pd.DataFrame((df.curb_wgt-df.curb_wgt.mean())/df.curb_wgt.std()).values\n",
        "df.fuel_cap=pd.DataFrame((df.fuel_cap-df.fuel_cap.mean())/df.fuel_cap.std()).values\n",
        "df.mpg=pd.DataFrame((df.mpg-df.mpg.mean())/df.mpg.std()).values\n",
        "df.head(10)"
      ],
      "execution_count": null,
      "outputs": [
        {
          "output_type": "execute_result",
          "data": {
            "text/html": [
              "<div>\n",
              "<style scoped>\n",
              "    .dataframe tbody tr th:only-of-type {\n",
              "        vertical-align: middle;\n",
              "    }\n",
              "\n",
              "    .dataframe tbody tr th {\n",
              "        vertical-align: top;\n",
              "    }\n",
              "\n",
              "    .dataframe thead th {\n",
              "        text-align: right;\n",
              "    }\n",
              "</style>\n",
              "<table border=\"1\" class=\"dataframe\">\n",
              "  <thead>\n",
              "    <tr style=\"text-align: right;\">\n",
              "      <th></th>\n",
              "      <th>type</th>\n",
              "      <th>engine_s</th>\n",
              "      <th>horsepow</th>\n",
              "      <th>wheelbas</th>\n",
              "      <th>width</th>\n",
              "      <th>length</th>\n",
              "      <th>curb_wgt</th>\n",
              "      <th>fuel_cap</th>\n",
              "      <th>mpg</th>\n",
              "      <th>price</th>\n",
              "    </tr>\n",
              "  </thead>\n",
              "  <tbody>\n",
              "    <tr>\n",
              "      <th>0</th>\n",
              "      <td>0</td>\n",
              "      <td>-1.288337</td>\n",
              "      <td>-0.803575</td>\n",
              "      <td>-0.916791</td>\n",
              "      <td>-1.088298</td>\n",
              "      <td>-1.096822</td>\n",
              "      <td>-1.238410</td>\n",
              "      <td>-1.391732</td>\n",
              "      <td>1.012849</td>\n",
              "      <td>21.500</td>\n",
              "    </tr>\n",
              "    <tr>\n",
              "      <th>2</th>\n",
              "      <td>0</td>\n",
              "      <td>0.455434</td>\n",
              "      <td>1.186154</td>\n",
              "      <td>0.291560</td>\n",
              "      <td>-0.075508</td>\n",
              "      <td>0.576006</td>\n",
              "      <td>0.501670</td>\n",
              "      <td>0.053507</td>\n",
              "      <td>0.142034</td>\n",
              "      <td>28.400</td>\n",
              "    </tr>\n",
              "    <tr>\n",
              "      <th>3</th>\n",
              "      <td>0</td>\n",
              "      <td>0.829100</td>\n",
              "      <td>0.835025</td>\n",
              "      <td>1.429862</td>\n",
              "      <td>0.295848</td>\n",
              "      <td>0.877931</td>\n",
              "      <td>1.161631</td>\n",
              "      <td>0.342555</td>\n",
              "      <td>-0.728782</td>\n",
              "      <td>42.000</td>\n",
              "    </tr>\n",
              "    <tr>\n",
              "      <th>4</th>\n",
              "      <td>0</td>\n",
              "      <td>-1.288337</td>\n",
              "      <td>-0.569490</td>\n",
              "      <td>-0.671618</td>\n",
              "      <td>-0.784461</td>\n",
              "      <td>-0.639855</td>\n",
              "      <td>-0.526919</td>\n",
              "      <td>-0.235541</td>\n",
              "      <td>0.722577</td>\n",
              "      <td>23.990</td>\n",
              "    </tr>\n",
              "    <tr>\n",
              "      <th>5</th>\n",
              "      <td>0</td>\n",
              "      <td>-0.042786</td>\n",
              "      <td>0.600939</td>\n",
              "      <td>0.396634</td>\n",
              "      <td>1.882552</td>\n",
              "      <td>0.502565</td>\n",
              "      <td>0.588872</td>\n",
              "      <td>0.523210</td>\n",
              "      <td>-0.728782</td>\n",
              "      <td>33.950</td>\n",
              "    </tr>\n",
              "    <tr>\n",
              "      <th>7</th>\n",
              "      <td>0</td>\n",
              "      <td>-0.416451</td>\n",
              "      <td>-0.101318</td>\n",
              "      <td>0.151462</td>\n",
              "      <td>-0.716942</td>\n",
              "      <td>-0.803057</td>\n",
              "      <td>-0.168202</td>\n",
              "      <td>-0.163279</td>\n",
              "      <td>0.461333</td>\n",
              "      <td>26.990</td>\n",
              "    </tr>\n",
              "    <tr>\n",
              "      <th>8</th>\n",
              "      <td>0</td>\n",
              "      <td>-0.042786</td>\n",
              "      <td>0.437079</td>\n",
              "      <td>0.151462</td>\n",
              "      <td>-0.683182</td>\n",
              "      <td>-0.803057</td>\n",
              "      <td>-0.132528</td>\n",
              "      <td>-0.163279</td>\n",
              "      <td>-0.148238</td>\n",
              "      <td>33.400</td>\n",
              "    </tr>\n",
              "    <tr>\n",
              "      <th>9</th>\n",
              "      <td>0</td>\n",
              "      <td>-0.042786</td>\n",
              "      <td>0.437079</td>\n",
              "      <td>0.869468</td>\n",
              "      <td>0.127050</td>\n",
              "      <td>0.176159</td>\n",
              "      <td>0.412486</td>\n",
              "      <td>0.523210</td>\n",
              "      <td>0.083979</td>\n",
              "      <td>38.900</td>\n",
              "    </tr>\n",
              "    <tr>\n",
              "      <th>10</th>\n",
              "      <td>0</td>\n",
              "      <td>0.330879</td>\n",
              "      <td>0.015725</td>\n",
              "      <td>0.449171</td>\n",
              "      <td>0.734724</td>\n",
              "      <td>0.714728</td>\n",
              "      <td>0.206371</td>\n",
              "      <td>0.161900</td>\n",
              "      <td>0.142034</td>\n",
              "      <td>21.975</td>\n",
              "    </tr>\n",
              "    <tr>\n",
              "      <th>11</th>\n",
              "      <td>0</td>\n",
              "      <td>1.202765</td>\n",
              "      <td>1.537283</td>\n",
              "      <td>0.449171</td>\n",
              "      <td>0.734724</td>\n",
              "      <td>0.845291</td>\n",
              "      <td>0.553198</td>\n",
              "      <td>0.161900</td>\n",
              "      <td>-0.438510</td>\n",
              "      <td>25.300</td>\n",
              "    </tr>\n",
              "  </tbody>\n",
              "</table>\n",
              "</div>"
            ],
            "text/plain": [
              "    type  engine_s  horsepow  wheelbas  ...  curb_wgt  fuel_cap       mpg   price\n",
              "0      0 -1.288337 -0.803575 -0.916791  ... -1.238410 -1.391732  1.012849  21.500\n",
              "2      0  0.455434  1.186154  0.291560  ...  0.501670  0.053507  0.142034  28.400\n",
              "3      0  0.829100  0.835025  1.429862  ...  1.161631  0.342555 -0.728782  42.000\n",
              "4      0 -1.288337 -0.569490 -0.671618  ... -0.526919 -0.235541  0.722577  23.990\n",
              "5      0 -0.042786  0.600939  0.396634  ...  0.588872  0.523210 -0.728782  33.950\n",
              "7      0 -0.416451 -0.101318  0.151462  ... -0.168202 -0.163279  0.461333  26.990\n",
              "8      0 -0.042786  0.437079  0.151462  ... -0.132528 -0.163279 -0.148238  33.400\n",
              "9      0 -0.042786  0.437079  0.869468  ...  0.412486  0.523210  0.083979  38.900\n",
              "10     0  0.330879  0.015725  0.449171  ...  0.206371  0.161900  0.142034  21.975\n",
              "11     0  1.202765  1.537283  0.449171  ...  0.553198  0.161900 -0.438510  25.300\n",
              "\n",
              "[10 rows x 10 columns]"
            ]
          },
          "metadata": {
            "tags": []
          },
          "execution_count": 16
        }
      ]
    },
    {
      "cell_type": "markdown",
      "metadata": {
        "id": "_ZcH6JeW5fo2"
      },
      "source": [
        "**Splitting the dataset into the Training set and Test set**"
      ]
    },
    {
      "cell_type": "code",
      "metadata": {
        "id": "ajomS8Vq5gnu"
      },
      "source": [
        "X_tr=df.iloc[:100, :-1].values\n",
        "y_tr=df.iloc[:100, -2:-1].values\n",
        "X_tst=df.iloc[100:, :-1].values\n",
        "y_tst=df.iloc[100:, -2:-1].values"
      ],
      "execution_count": null,
      "outputs": []
    },
    {
      "cell_type": "markdown",
      "metadata": {
        "id": "SLKN4cOw-4mb"
      },
      "source": [
        "**Regression Class**\n"
      ]
    },
    {
      "cell_type": "code",
      "metadata": {
        "id": "cHOpmoFD-7nk"
      },
      "source": [
        "class LinearModel:\n",
        "    def __init__(self, num_features):\n",
        "        self.num_features = num_features\n",
        "        self.W = np.random.rand(num_features, 1)\n",
        "        self.b = np.random.rand()\n",
        "        \n",
        "    def forward_pass(self, X):\n",
        "        y = self.b + np.dot(X, self.W)\n",
        "        return y\n",
        "    \n",
        "    def compute_loss(self, y, y_true):\n",
        "        loss = np.sum(np.square(y - y_true))\n",
        "        return loss/(2*y.shape[0])\n",
        "    \n",
        "    def backward_pass(self, X, y_true, y_hat):\n",
        "        sns.scatterplot\n",
        "        m = y_hat.shape[0]\n",
        "        db = np.sum(y_hat - y_true)/m\n",
        "        dW = np.sum(np.dot(np.transpose(y_hat - y_true), X), axis=0)/m\n",
        "        return dW, db\n",
        "    \n",
        "    def update_params(self, dW, db, lr):\n",
        "        self.W = self.W - lr * np.reshape(dW, (self.num_features, 1))\n",
        "        self.b = self.b - lr * db\n",
        "        \n",
        "    def train(self, x_train, y_train, iterations, lr):\n",
        "        losses = []\n",
        "        for i in range(iterations):\n",
        "            y_hat = self.forward_pass(x_train)\n",
        "            dW, db = self.backward_pass(x_train, y_train, y_hat)\n",
        "            self.update_params(dW, db, lr)\n",
        "            loss = self.compute_loss(y_hat, y_train)\n",
        "            losses.append(loss)\n",
        "            if i % 500 == 0:\n",
        "                print('Iter: {}, Current loss: {:.4f}'.format(i, loss))\n",
        "        return losses"
      ],
      "execution_count": null,
      "outputs": []
    },
    {
      "cell_type": "markdown",
      "metadata": {
        "id": "h1OLryjw6tvF"
      },
      "source": [
        "**Training Model**"
      ]
    },
    {
      "cell_type": "code",
      "metadata": {
        "id": "dSd3XwFA6y4b"
      },
      "source": [
        "myModel=LinearModel(9)"
      ],
      "execution_count": null,
      "outputs": []
    },
    {
      "cell_type": "code",
      "metadata": {
        "id": "HJ_kdMBcULEf",
        "colab": {
          "base_uri": "https://localhost:8080/",
          "height": 625
        },
        "outputId": "9d4c8e84-f8f8-4c85-d92e-b659f86f1279"
      },
      "source": [
        "losses= myModel.train(X_tr,y_tr,10000,0.0003)"
      ],
      "execution_count": null,
      "outputs": [
        {
          "output_type": "stream",
          "text": [
            "Iter: 0, Current loss: 7.7881\n",
            "Iter: 500, Current loss: 1.8395\n",
            "Iter: 1000, Current loss: 0.5615\n",
            "Iter: 1500, Current loss: 0.2548\n",
            "Iter: 2000, Current loss: 0.1584\n",
            "Iter: 2500, Current loss: 0.1134\n",
            "Iter: 3000, Current loss: 0.0853\n",
            "Iter: 3500, Current loss: 0.0653\n",
            "Iter: 4000, Current loss: 0.0504\n",
            "Iter: 4500, Current loss: 0.0393\n",
            "Iter: 5000, Current loss: 0.0308\n",
            "Iter: 5500, Current loss: 0.0244\n",
            "Iter: 6000, Current loss: 0.0195\n",
            "Iter: 6500, Current loss: 0.0157\n",
            "Iter: 7000, Current loss: 0.0128\n",
            "Iter: 7500, Current loss: 0.0106\n",
            "Iter: 8000, Current loss: 0.0088\n",
            "Iter: 8500, Current loss: 0.0074\n",
            "Iter: 9000, Current loss: 0.0063\n",
            "Iter: 9500, Current loss: 0.0054\n"
          ],
          "name": "stdout"
        },
        {
          "output_type": "execute_result",
          "data": {
            "text/plain": [
              "[<matplotlib.lines.Line2D at 0x7f3fb00fc4e0>]"
            ]
          },
          "metadata": {
            "tags": []
          },
          "execution_count": 20
        },
        {
          "output_type": "display_data",
          "data": {
            "image/png": "[encoded data removed]",
            "text/plain": [
              "<Figure size 432x288 with 1 Axes>"
            ]
          },
          "metadata": {
            "tags": [],
            "needs_background": "light"
          }
        }
      ]
    },
    {
      "cell_type": "markdown",
      "metadata": {
        "id": "atw0alYBHB7H"
      },
      "source": [
        "**Ploting Costs**"
      ]
    },
    {
      "cell_type": "code",
      "metadata": {
        "id": "ib8F5oJjHDGB"
      },
      "source": [
        "plt.plot(losses)"
      ],
      "execution_count": null,
      "outputs": []
    },
    {
      "cell_type": "markdown",
      "metadata": {
        "id": "TzbmZhGqHptu"
      },
      "source": [
        "**Forward pass on test set**"
      ]
    },
    {
      "cell_type": "code",
      "metadata": {
        "id": "eS8UvkaU1uUb"
      },
      "source": [
        "y_test_pred=myModel.forward_pass(X_tst)\n"
      ],
      "execution_count": null,
      "outputs": []
    },
    {
      "cell_type": "markdown",
      "metadata": {
        "id": "_mT8-zW82Ony"
      },
      "source": [
        "**Ploting Predictions vs Actual Values for test set**"
      ]
    },
    {
      "cell_type": "code",
      "metadata": {
        "id": "bqUlhiky2Xbd",
        "colab": {
          "base_uri": "https://localhost:8080/",
          "height": 485
        },
        "outputId": "d036589a-618f-4a94-bb3a-ea0544550e90"
      },
      "source": [
        "plt.figure(figsize=(8,8))\n",
        "plt.plot(y_tst,'rx',label='Actual Values')\n",
        "plt.plot(y_test_pred,'bo',label='Predictions')\n",
        "plt.legend()\n",
        "plt.show()"
      ],
      "execution_count": null,
      "outputs": [
        {
          "output_type": "display_data",
          "data": {
            "image/png": "[encoded data removed]",
            "text/plain": [
              "<Figure size 576x576 with 1 Axes>"
            ]
          },
          "metadata": {
            "tags": [],
            "needs_background": "light"
          }
        }
      ]
    },
    {
      "cell_type": "code",
      "metadata": {
        "id": "k5aPfpFc6T6V",
        "colab": {
          "base_uri": "https://localhost:8080/",
          "height": 34
        },
        "outputId": "8c6a882b-bd5d-4f37-f553-e093ec62b859"
      },
      "source": [
        "\n",
        "def pearsonr(X, Y):\n",
        "    ''' Takes X & Y as numpy array\n",
        "       returms Pearson Correlation Coefficient \n",
        "    '''\n",
        "    # Normalise X and Y\n",
        "    X -= X.mean(0)\n",
        "    Y -= Y.mean(0)\n",
        "    # Standardise X and Y\n",
        "    X /= X.std(0)\n",
        "    Y /= Y.std(0)\n",
        "    # Compute mean product\n",
        "    return np.mean(X*Y)\n",
        "print(\"Accuracy of the model\",pearsonr(y_tst, y_test_pred))"
      ],
      "execution_count": null,
      "outputs": [
        {
          "output_type": "stream",
          "text": [
            "Accuracy of the model 0.9941748709261294\n"
          ],
          "name": "stdout"
        }
      ]
    },
    {
      "cell_type": "markdown",
      "metadata": {
        "id": "au5FHk-PH3t8"
      },
      "source": [
        "**Fetching learned weights of the model for future predictions**\n"
      ]
    },
    {
      "cell_type": "code",
      "metadata": {
        "id": "b8qLc8UyIKzu",
        "colab": {
          "base_uri": "https://localhost:8080/",
          "height": 187
        },
        "outputId": "73f572bd-e7df-4685-f81e-f090e8e972fa"
      },
      "source": [
        "W=myModel.W\n",
        "b=myModel.b\n",
        "print(\"Value of Weights(W) \",W)\n",
        "print(\"Value of bias(b) \",b)"
      ],
      "execution_count": null,
      "outputs": [
        {
          "output_type": "stream",
          "text": [
            "Value of Weights(W)  [[ 0.17498029]\n",
            " [ 0.08711869]\n",
            " [-0.00960086]\n",
            " [-0.07116314]\n",
            " [ 0.03858008]\n",
            " [ 0.03372087]\n",
            " [-0.04257171]\n",
            " [-0.09552984]\n",
            " [ 0.98754257]]\n",
            "Value of bias(b)  -0.006185565562785028\n"
          ],
          "name": "stdout"
        }
      ]
    }
  ]
}